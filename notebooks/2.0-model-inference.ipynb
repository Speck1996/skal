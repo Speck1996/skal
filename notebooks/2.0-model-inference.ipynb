{
 "cells": [
  {
   "cell_type": "markdown",
   "metadata": {},
   "source": [
    "# SKAL! model inference"
   ]
  },
  {
   "cell_type": "markdown",
   "metadata": {},
   "source": [
    "## Input variables"
   ]
  },
  {
   "cell_type": "code",
   "execution_count": null,
   "metadata": {},
   "outputs": [],
   "source": [
    "import os\n",
    "\n",
    "os.environ['TF_GPU_ALLOCATOR'] = \"cuda_malloc_async\"\n",
    "\n",
    "subdirs = os.listdir(os.getcwd())\n",
    "# little workaround. with a properlyb built package this should be useless\n",
    "if \"skal\" not in subdirs:\n",
    "    os.chdir(\"..\")"
   ]
  },
  {
   "cell_type": "code",
   "execution_count": null,
   "metadata": {},
   "outputs": [],
   "source": [
    "config_path = \"config/bigan/nanotwice.yaml\"\n",
    "weights_dir = \"models/bigan/nanotwice\"\n",
    "test_img_path = \"datasets/nanotwice/Anomalous/images/ITIA1101.tif\""
   ]
  },
  {
   "cell_type": "markdown",
   "metadata": {},
   "source": [
    "## Loading detector"
   ]
  },
  {
   "cell_type": "code",
   "execution_count": null,
   "metadata": {},
   "outputs": [],
   "source": [
    "import numpy as np\n",
    "import tensorflow as tf\n",
    "from PIL import Image\n",
    "import matplotlib.pyplot as plt\n",
    "\n",
    "tf.keras.mixed_precision.set_global_policy('mixed_float16')\n",
    "\n",
    "from skal.models.bigan import detector, loader\n",
    "from skal.utils import utils\n",
    "from skal.experiment.config import Config\n",
    "from skal.visualization import plotters\n",
    "from skal.models import model_choices\n",
    "from skal.anomaly_map import ops\n",
    "\n",
    "utils.set_gpu()\n",
    "exp_params = utils.load_yaml_file(config_path)\n",
    "\n",
    "config = Config(**exp_params)\n",
    "\n",
    "loader = model_choices.LoaderFactory.get_loader(config.model['name'])\n",
    "detector = loader.load_detector(config.detector, seed=config.seed, weights_dir=weights_dir)"
   ]
  },
  {
   "cell_type": "markdown",
   "metadata": {},
   "source": [
    "## Loading Test Image"
   ]
  },
  {
   "cell_type": "code",
   "execution_count": null,
   "metadata": {},
   "outputs": [],
   "source": [
    "\n",
    "image = Image.open(\"datasets/nanotwice/Anomalous/images/ITIA1101.tif\")\n",
    "plt.imshow(np.array(image), cmap='gray')\n",
    "plt.axis('off')"
   ]
  },
  {
   "cell_type": "code",
   "execution_count": null,
   "metadata": {},
   "outputs": [],
   "source": [
    "image = np.expand_dims(image, 0)\n",
    "image = np.expand_dims(image, -1)"
   ]
  },
  {
   "cell_type": "markdown",
   "metadata": {},
   "source": [
    "## Detector in action"
   ]
  },
  {
   "cell_type": "code",
   "execution_count": null,
   "metadata": {},
   "outputs": [],
   "source": [
    "anomaly_scores = detector.score_anomalies(image)\n",
    "reconstructed_image = detector.model.reconstruct_images(image)"
   ]
  },
  {
   "cell_type": "markdown",
   "metadata": {},
   "source": [
    "## Visualizing Anomaly Scores"
   ]
  },
  {
   "cell_type": "code",
   "execution_count": null,
   "metadata": {},
   "outputs": [],
   "source": [
    "anomaly_img = ops.anomaly_map_to_img(np.array(anomaly_scores))\n",
    "plt.imshow(np.array(anomaly_scores[0]), vmin=0, vmax=1.0)\n",
    "plt.axis('off')"
   ]
  },
  {
   "cell_type": "markdown",
   "metadata": {},
   "source": [
    "## Visualizing Reconstruction"
   ]
  },
  {
   "cell_type": "code",
   "execution_count": null,
   "metadata": {},
   "outputs": [],
   "source": [
    "plt.imshow(reconstructed_image[0], cmap='gray')\n",
    "plt.axis('off')\n",
    "plt.show()"
   ]
  }
 ],
 "metadata": {
  "kernelspec": {
   "display_name": "Python 3",
   "language": "python",
   "name": "python3"
  },
  "language_info": {
   "codemirror_mode": {
    "name": "ipython",
    "version": 3
   },
   "file_extension": ".py",
   "mimetype": "text/x-python",
   "name": "python",
   "nbconvert_exporter": "python",
   "pygments_lexer": "ipython3",
   "version": "3.8.10"
  },
  "orig_nbformat": 4
 },
 "nbformat": 4,
 "nbformat_minor": 2
}
